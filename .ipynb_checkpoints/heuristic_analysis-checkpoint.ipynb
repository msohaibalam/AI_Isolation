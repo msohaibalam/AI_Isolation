{
 "cells": [
  {
   "cell_type": "code",
   "execution_count": 1,
   "metadata": {
    "collapsed": true
   },
   "outputs": [],
   "source": [
    "%matplotlib inline\n",
    "import matplotlib.pyplot as plt\n",
    "import numpy as np"
   ]
  },
  {
   "cell_type": "code",
   "execution_count": 5,
   "metadata": {
    "collapsed": false
   },
   "outputs": [
    {
     "name": "stdout",
     "output_type": "stream",
     "text": [
      "21\n",
      "46.7333333333\n",
      "2.41154629969\n"
     ]
    }
   ],
   "source": [
    "ab_improved = [44.3, 45.7, 50.0, 50.0, 42.9, 44.3, 47.1, 51.4, 47.1, 42.9, 44.3, 50.0, 45.7, 47.1, 47.1, 48.6, 48.6, 45.7, 45.7, 48.6, 44.3]\n",
    "print(len(ab_improved))\n",
    "print(np.mean(ab_improved))\n",
    "print(np.std(ab_improved))"
   ]
  },
  {
   "cell_type": "code",
   "execution_count": 8,
   "metadata": {
    "collapsed": false
   },
   "outputs": [
    {
     "data": {
      "image/png": "[encoded data removed]",
      "text/plain": [
       "<matplotlib.figure.Figure at 0x112b83748>"
      ]
     },
     "metadata": {},
     "output_type": "display_data"
    }
   ],
   "source": [
    "plt.figure(figsize=(5, 3))\n",
    "plt.hist(ab_improved, bins=50)\n",
    "plt.show()"
   ]
  },
  {
   "cell_type": "code",
   "execution_count": 9,
   "metadata": {
    "collapsed": false
   },
   "outputs": [
    {
     "name": "stdout",
     "output_type": "stream",
     "text": [
      "21\n",
      "70.6761904762\n",
      "4.54950596605\n"
     ]
    }
   ],
   "source": [
    "ab_custom = [71.4, 67.1, 67.1, 72.9, 72.9, 70.0, 75.7, 75.7, 68.6, 65.7, 68.6, 64.3, 71.4, 68.6, 75.7, 75.7, 60.0, 74.3, 77.1, 65.7, 75.7]\n",
    "print(len(ab_custom))\n",
    "print(np.mean(ab_custom))\n",
    "print(np.std(ab_custom))"
   ]
  },
  {
   "cell_type": "code",
   "execution_count": 10,
   "metadata": {
    "collapsed": false
   },
   "outputs": [
    {
     "data": {
      "image/png": "[encoded data removed]",
      "text/plain": [
       "<matplotlib.figure.Figure at 0x1128f70f0>"
      ]
     },
     "metadata": {},
     "output_type": "display_data"
    }
   ],
   "source": [
    "plt.figure(figsize=(5, 3))\n",
    "plt.hist(ab_custom, bins=50)\n",
    "plt.show()"
   ]
  },
  {
   "cell_type": "code",
   "execution_count": 11,
   "metadata": {
    "collapsed": false
   },
   "outputs": [
    {
     "name": "stdout",
     "output_type": "stream",
     "text": [
      "21\n",
      "66.7428571429\n",
      "4.04328619631\n"
     ]
    }
   ],
   "source": [
    "ab_custom_2 = [62.9, 68.6, 65.7, 67.1, 70.0, 74.3, 62.9, 70.0, 62.9, 61.4, 65.7, 68.6, 64.3, 71.4, 68.6, 71.4, 60.0, 62.9, 72.9, 61.4, 68.6]\n",
    "print(len(ab_custom_2))\n",
    "print(np.mean(ab_custom_2))\n",
    "print(np.std(ab_custom_2))"
   ]
  },
  {
   "cell_type": "code",
   "execution_count": 12,
   "metadata": {
    "collapsed": false
   },
   "outputs": [
    {
     "data": {
      "image/png": "[encoded data removed]",
      "text/plain": [
       "<matplotlib.figure.Figure at 0x112f466a0>"
      ]
     },
     "metadata": {},
     "output_type": "display_data"
    }
   ],
   "source": [
    "plt.figure(figsize=(5, 3))\n",
    "plt.hist(ab_custom_2, bins=50)\n",
    "plt.show()"
   ]
  },
  {
   "cell_type": "code",
   "execution_count": 13,
   "metadata": {
    "collapsed": false
   },
   "outputs": [
    {
     "name": "stdout",
     "output_type": "stream",
     "text": [
      "21\n",
      "63.7476190476\n",
      "5.05028231626\n"
     ]
    }
   ],
   "source": [
    "ab_custom_3 = [67.1, 61.4, 61.4, 72.9, 64.3, 48.6, 62.9, 68.6, 64.3, 62.9, 64.3, 61.4, 71.4, 71.4, 62.9, 64.3, 60.0, 62.9, 61.4, 65.7, 58.6]\n",
    "print(len(ab_custom_3))\n",
    "print(np.mean(ab_custom_3))\n",
    "print(np.std(ab_custom_3))"
   ]
  },
  {
   "cell_type": "code",
   "execution_count": 14,
   "metadata": {
    "collapsed": false
   },
   "outputs": [
    {
     "data": {
      "image/png": "[encoded data removed]",
      "text/plain": [
       "<matplotlib.figure.Figure at 0x10f21ee10>"
      ]
     },
     "metadata": {},
     "output_type": "display_data"
    }
   ],
   "source": [
    "plt.figure(figsize=(5, 3))\n",
    "plt.hist(ab_custom_3, bins=50)\n",
    "plt.show()"
   ]
  },
  {
   "cell_type": "markdown",
   "metadata": {},
   "source": [
    "### T-tests showing all three are better than AB_improved"
   ]
  },
  {
   "cell_type": "code",
   "execution_count": 15,
   "metadata": {
    "collapsed": true
   },
   "outputs": [],
   "source": [
    "ab_custom_1 = ab_custom"
   ]
  },
  {
   "cell_type": "code",
   "execution_count": 16,
   "metadata": {
    "collapsed": true
   },
   "outputs": [],
   "source": [
    "import scipy.stats as stats"
   ]
  },
  {
   "cell_type": "code",
   "execution_count": 17,
   "metadata": {
    "collapsed": false
   },
   "outputs": [
    {
     "name": "stdout",
     "output_type": "stream",
     "text": [
      "Ttest_indResult(statistic=20.794905398520154, pvalue=4.6874961585660624e-23)\n",
      "Ttest_indResult(statistic=19.007737918962732, pvalue=1.235388391762269e-21)\n",
      "Ttest_indResult(statistic=13.596012465648675, pvalue=1.3861282603108391e-16)\n"
     ]
    }
   ],
   "source": [
    "for l1 in [ab_custom_1, ab_custom_2, ab_custom_3]:\n",
    "    print(stats.ttest_ind(l1, ab_improved))"
   ]
  },
  {
   "cell_type": "code",
   "execution_count": 18,
   "metadata": {
    "collapsed": false
   },
   "outputs": [
    {
     "name": "stdout",
     "output_type": "stream",
     "text": [
      "Ttest_indResult(statistic=2.8900416765655992, pvalue=0.0061950059671992096)\n",
      "Ttest_indResult(statistic=4.5584997513478758, pvalue=4.7770106205153231e-05)\n"
     ]
    }
   ],
   "source": [
    "for l2 in [ab_custom_2, ab_custom_3]:\n",
    "    print(stats.ttest_ind(ab_custom_1, l2))"
   ]
  },
  {
   "cell_type": "code",
   "execution_count": null,
   "metadata": {
    "collapsed": true
   },
   "outputs": [],
   "source": []
  },
  {
   "cell_type": "code",
   "execution_count": null,
   "metadata": {
    "collapsed": true
   },
   "outputs": [],
   "source": []
  },
  {
   "cell_type": "code",
   "execution_count": null,
   "metadata": {
    "collapsed": true
   },
   "outputs": [],
   "source": []
  },
  {
   "cell_type": "code",
   "execution_count": null,
   "metadata": {
    "collapsed": true
   },
   "outputs": [],
   "source": []
  },
  {
   "cell_type": "code",
   "execution_count": null,
   "metadata": {
    "collapsed": true
   },
   "outputs": [],
   "source": []
  }
 ],
 "metadata": {
  "kernelspec": {
   "display_name": "Python 3",
   "language": "python",
   "name": "python3"
  },
  "language_info": {
   "codemirror_mode": {
    "name": "ipython",
    "version": 3
   },
   "file_extension": ".py",
   "mimetype": "text/x-python",
   "name": "python",
   "nbconvert_exporter": "python",
   "pygments_lexer": "ipython3",
   "version": "3.6.0"
  }
 },
 "nbformat": 4,
 "nbformat_minor": 2
}
